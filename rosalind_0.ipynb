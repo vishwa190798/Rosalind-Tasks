{
 "cells": [
  {
   "cell_type": "code",
   "execution_count": 15,
   "metadata": {},
   "outputs": [
    {
     "name": "stdout",
     "output_type": "stream",
     "text": [
      "221 237 219 254\n"
     ]
    }
   ],
   "source": [
    "seq = \"CGAATATATACGTACCTTGAAAAGGCGAAAGTTGCTGTCCAGGGAGGTATGTGAGGGCGTCAAACCGTGTTAGCATCGGAGACAAGTATCACCTTGCTTCTATCGCTTACGACATCAATTAGCGCATGGTGCTCGGAACTTAATTTCTTATAGTATAGGCCATTTGGCTTGCACCAGTAAGCTAATCCGAAAGACGCTCCGACGGCAACGTCCTTGAAAAATGCGCGCCGTGCTTGGGGAGTCCCACTAGTGATTGTTTACCAAACCTATTTTTCGTCTAGGTCAGCTACCTTAATCGAACATGACTTAACTCCGCCAGTGCCGGCTTGGCTAATAGATAGTGTATACTTCTCACTCGCGCGTTTTCTGAATGAGCTCGGTATATGTCTTTGCCTGTGGTCTACAGGCCCCGTATTTGATCGAATCGAATACACTTGACTACCACACGTAGCGCTCGCACTGCGCCGCTTATCTATTCCCGTGAGCGCCAATGTGTACCGACTGTCTGTCTCGGGAAATGCAGCACGCATCACATGTAGCGTCAGGCCTCTAGCATTTAGGCAATCATAATCCTAGCTCCGATTGAAATTTGCGTGATATCTCTTACAGGCGTAACGACATTAAAAAAGAGACTTTTGAAGCTCCTAGCCCCCTTATTCACTTATGAGCTGGCACCAACTCGGTCAACCCGCACACGGTATGATCCAGCCCCCTTGTTGTGTGTAATCGACAGTGGAGCCGGCTTAATGTAGTAAAACCAGGCGGAATGCTGCTTCAGTTATCCGGCCATGCAATATGAAAGTTGTCGGGGCTAGGTGAATGAATTACCCGATGTCGTGATTAATTGACCCCCCGATGCCACTCTGTCGGAGAGTATCGAGTGCTTTTGTTGGCCCGGGTCTATTCAGCCTTCTTCCGGGCGATACTCGCC\"\n",
    "list = [0,0,0,0]\n",
    "for i in range(0, len(seq)):   #goes through entire seq and counts the nucleotides\n",
    "    if seq[i]=='A':\n",
    "        list[0]=list[0] + 1\n",
    "    elif seq[i]=='C':\n",
    "        list[1]=list[1] + 1\n",
    "    elif seq[i]=='G':\n",
    "        list[2]=list[2] + 1\n",
    "    elif seq[i]=='T':\n",
    "        list[3]=list[3] + 1\n",
    "\n",
    "output = str(list[0]) + \" \" + str(list[1]) + \" \" + str(list[2]) + \" \" + str(list[3])  #stores the count\n",
    "\n",
    "print (output)"
   ]
  },
  {
   "cell_type": "code",
   "execution_count": null,
   "metadata": {},
   "outputs": [],
   "source": []
  }
 ],
 "metadata": {
  "kernelspec": {
   "display_name": "Python 3",
   "language": "python",
   "name": "python3"
  },
  "language_info": {
   "codemirror_mode": {
    "name": "ipython",
    "version": 3
   },
   "file_extension": ".py",
   "mimetype": "text/x-python",
   "name": "python",
   "nbconvert_exporter": "python",
   "pygments_lexer": "ipython3",
   "version": "3.8.5"
  }
 },
 "nbformat": 4,
 "nbformat_minor": 4
}
