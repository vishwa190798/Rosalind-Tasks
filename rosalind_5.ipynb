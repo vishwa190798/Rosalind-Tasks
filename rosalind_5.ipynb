{
 "cells": [
  {
   "cell_type": "code",
   "execution_count": 1,
   "metadata": {},
   "outputs": [
    {
     "name": "stdout",
     "output_type": "stream",
     "text": [
      "875089148811941\n"
     ]
    }
   ],
   "source": [
    "#a function that takes months and offsprings produced as input\n",
    "def rabbits(months, offspring):\n",
    "    \n",
    "    parent , child = 1, 1\n",
    "    for i in range(months-1):\n",
    "        #child in firts generation becomes parent in next generation. \n",
    "        child , parent = parent, parent + (child * offspring)\n",
    "        \n",
    "    return child\n",
    "\n",
    "#calling function\n",
    "print(rabbits(35,5))"
   ]
  }
 ],
 "metadata": {
  "kernelspec": {
   "display_name": "Python 3",
   "language": "python",
   "name": "python3"
  },
  "language_info": {
   "codemirror_mode": {
    "name": "ipython",
    "version": 3
   },
   "file_extension": ".py",
   "mimetype": "text/x-python",
   "name": "python",
   "nbconvert_exporter": "python",
   "pygments_lexer": "ipython3",
   "version": "3.8.5"
  }
 },
 "nbformat": 4,
 "nbformat_minor": 4
}
